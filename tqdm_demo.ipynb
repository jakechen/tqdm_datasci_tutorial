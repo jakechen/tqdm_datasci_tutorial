{
 "cells": [
  {
   "cell_type": "code",
   "execution_count": 1,
   "metadata": {
    "collapsed": true
   },
   "outputs": [],
   "source": [
    "from tqdm import tqdm"
   ]
  },
  {
   "cell_type": "markdown",
   "metadata": {
    "collapsed": true
   },
   "source": [
    "# TQDM Demo for Data Science"
   ]
  },
  {
   "cell_type": "markdown",
   "metadata": {},
   "source": [
    "## Intro"
   ]
  },
  {
   "cell_type": "markdown",
   "metadata": {},
   "source": [
    "[TQDM](https://github.com/noamraph/tqdm) is a great tool if you ever wanted to quickly create a progress bar for your loops. For Data Science this is expecially useful when you're applying a transformation and you want to know if you have time to get another beer."
   ]
  },
  {
   "cell_type": "markdown",
   "metadata": {},
   "source": [
    "## How to use"
   ]
  },
  {
   "cell_type": "markdown",
   "metadata": {},
   "source": [
    "From the TQDM documentation:\n",
    "\n",
    "> **just wrap any iterator with \"tqdm(iterator)\"**, and you're done!\n",
    "\n",
    "Yep, it's that simple!\n",
    "\n",
    "Let's look at what this progress bar looks like using a simple iterator:"
   ]
  },
  {
   "cell_type": "code",
   "execution_count": 2,
   "metadata": {
    "collapsed": false
   },
   "outputs": [
    {
     "name": "stderr",
     "output_type": "stream",
     "text": [
      "100%|██████████| 1000/1000 [00:11<00:00, 84.44it/s]\n"
     ]
    }
   ],
   "source": [
    "# Iterate from 0 to 999, pause for 0.01s between each iteration\n",
    "import time\n",
    "nums = range(1000)\n",
    "for i in tqdm(nums):\n",
    "    time.sleep(0.01)"
   ]
  },
  {
   "cell_type": "markdown",
   "metadata": {},
   "source": [
    "As you can see, in Jupyter Notebook tqdm creates a one-line progress bar that shows some useful info including:\n",
    "\n",
    "- the progress bar itself\n",
    "- elapsed time\n",
    "- remaining time\n",
    "- rate of items per second"
   ]
  },
  {
   "cell_type": "markdown",
   "metadata": {},
   "source": [
    "## Using TQDM with Other Data Science Packages"
   ]
  },
  {
   "cell_type": "markdown",
   "metadata": {},
   "source": [
    "### Numpy"
   ]
  },
  {
   "cell_type": "markdown",
   "metadata": {},
   "source": [
    "Numpy works very much like Python's built-in lists so it's (in most cases) also used in the same way."
   ]
  },
  {
   "cell_type": "code",
   "execution_count": 3,
   "metadata": {
    "collapsed": false
   },
   "outputs": [
    {
     "name": "stderr",
     "output_type": "stream",
     "text": [
      "100%|██████████| 100/100 [00:01<00:00, 84.21it/s]"
     ]
    },
    {
     "name": "stdout",
     "output_type": "stream",
     "text": [
      "[  0.   2.   4.   6.   8.  10.  12.  14.  16.  18.  20.  22.  24.  26.  28.\n",
      "  30.  32.  34.  36.  38.  40.  42.  44.  46.  48.  50.  52.  54.  56.  58.\n",
      "  60.  62.  64.  66.  68.  70.  72.  74.  76.  78.  80.  82.  84.  86.  88.\n",
      "  90.  92.  94.  96.  98.]\n"
     ]
    },
    {
     "name": "stderr",
     "output_type": "stream",
     "text": [
      "\n"
     ]
    }
   ],
   "source": [
    "# pick out even numbers\n",
    "import numpy as np\n",
    "nums = np.arange(100)\n",
    "evens = np.empty_like([])\n",
    "for x in tqdm(nums):\n",
    "    if x%2==0:\n",
    "        evens = np.append(evens, x)\n",
    "    time.sleep(0.01)\n",
    "print evens[:50]"
   ]
  },
  {
   "cell_type": "markdown",
   "metadata": {},
   "source": [
    "TQDM also works with nested loops."
   ]
  },
  {
   "cell_type": "code",
   "execution_count": 4,
   "metadata": {
    "collapsed": false
   },
   "outputs": [
    {
     "name": "stderr",
     "output_type": "stream",
     "text": [
      "  0%|          | 0/5 [00:00<?, ?it/s]\n",
      "  0%|          | 0/20 [00:00<?, ?it/s]\u001b[A\n",
      " 45%|████▌     | 9/20 [00:00<00:00, 87.76it/s]\u001b[A\n",
      " 90%|█████████ | 18/20 [00:00<00:00, 87.04it/s]\u001b[A\n",
      " 20%|██        | 1/5 [00:00<00:00,  4.26it/s]\n",
      "  0%|          | 0/20 [00:00<?, ?it/s]\u001b[A\n",
      " 45%|████▌     | 9/20 [00:00<00:00, 88.36it/s]\u001b[A\n",
      " 90%|█████████ | 18/20 [00:00<00:00, 87.85it/s]\u001b[A\n",
      " 40%|████      | 2/5 [00:00<00:00,  4.26it/s]\n",
      "  0%|          | 0/20 [00:00<?, ?it/s]\u001b[A\n",
      " 50%|█████     | 10/20 [00:00<00:00, 94.48it/s]\u001b[A\n",
      " 95%|█████████▌| 19/20 [00:00<00:00, 91.33it/s]\u001b[A\n",
      " 60%|██████    | 3/5 [00:00<00:00,  4.30it/s]\n",
      "  0%|          | 0/20 [00:00<?, ?it/s]\u001b[A\n",
      " 45%|████▌     | 9/20 [00:00<00:00, 84.74it/s]\u001b[A\n",
      " 90%|█████████ | 18/20 [00:00<00:00, 84.81it/s]\u001b[A\n",
      " 80%|████████  | 4/5 [00:00<00:00,  4.24it/s]\n",
      "  0%|          | 0/20 [00:00<?, ?it/s]\u001b[A\n",
      " 45%|████▌     | 9/20 [00:00<00:00, 83.56it/s]\u001b[A\n",
      " 90%|█████████ | 18/20 [00:00<00:00, 84.82it/s]\u001b[A\n",
      "100%|██████████| 5/5 [00:01<00:00,  4.24it/s]"
     ]
    },
    {
     "name": "stdout",
     "output_type": "stream",
     "text": [
      "[ 99.]\n"
     ]
    },
    {
     "name": "stderr",
     "output_type": "stream",
     "text": [
      "\n"
     ]
    }
   ],
   "source": [
    "# pick out even numbers in a matrix\n",
    "mat = np.arange(100).reshape([5,20])\n",
    "evens = np.empty_like([])\n",
    "for i1 in tqdm(range(mat.shape[0])):\n",
    "    for i2 in tqdm(range(mat.shape[1])):\n",
    "        if mat[i1,i2]==0:\n",
    "            evens = np.append(evens, x)\n",
    "        time.sleep(0.01)\n",
    "print evens[:50]"
   ]
  },
  {
   "cell_type": "markdown",
   "metadata": {},
   "source": [
    "Wait, that's not what we're looking for. Instead, we can use the tqdm_notebook function. This also adds some color to the bars."
   ]
  },
  {
   "cell_type": "code",
   "execution_count": 5,
   "metadata": {
    "collapsed": false
   },
   "outputs": [
    {
     "name": "stdout",
     "output_type": "stream",
     "text": [
      "\n",
      "[  0.   2.   4.   6.   8.  10.  12.  14.  16.  18.  20.  22.  24.  26.  28.\n",
      "  30.  32.  34.  36.  38.  40.  42.  44.  46.  48.  50.  52.  54.  56.  58.\n",
      "  60.  62.  64.  66.  68.  70.  72.  74.  76.  78.  80.  82.  84.  86.  88.\n",
      "  90.  92.  94.  96.  98.]\n"
     ]
    }
   ],
   "source": [
    "# pick out even numbers from a 5x20 matrix this time\n",
    "from tqdm import tqdm_notebook\n",
    "mat = np.arange(100).reshape([5,20])\n",
    "evens = np.empty_like([])\n",
    "for i1 in tqdm_notebook(range(mat.shape[0])):\n",
    "    for i2 in tqdm_notebook(range(mat.shape[1]), leave=False):\n",
    "    # the leave=False argument overwrites the nested loop each time\n",
    "        x = mat[i1,i2]\n",
    "        if x%2==0:\n",
    "            evens = np.append(evens, x)\n",
    "        time.sleep(0.01)\n",
    "print evens[:50]"
   ]
  },
  {
   "cell_type": "markdown",
   "metadata": {},
   "source": [
    "That looks much better.\n",
    "\n",
    "However, keep in mind that TQDM requires iterators as the input. It's **recommended to use elementwise operations where possible** in which case TQDM won't be useful. The better way to run the above function is below:"
   ]
  },
  {
   "cell_type": "code",
   "execution_count": 6,
   "metadata": {
    "collapsed": false
   },
   "outputs": [
    {
     "name": "stdout",
     "output_type": "stream",
     "text": [
      "[ 0  2  4  6  8 10 12 14 16 18 20 22 24 26 28 30 32 34 36 38 40 42 44 46 48\n",
      " 50 52 54 56 58 60 62 64 66 68 70 72 74 76 78 80 82 84 86 88 90 92 94 96 98]\n"
     ]
    }
   ],
   "source": [
    "print mat[mat%2==0]"
   ]
  },
  {
   "cell_type": "markdown",
   "metadata": {},
   "source": [
    "### Pandas"
   ]
  },
  {
   "cell_type": "markdown",
   "metadata": {},
   "source": [
    "Like Numpy, Pandas can use elementwise operations which is faster than writing iterative loops. Again, TQDM can't be used with elementwise operation. However, for cases where elementwise operations aren't feasible Pandas does include built-in iterators for its Series and DataFrame objects. "
   ]
  },
  {
   "cell_type": "code",
   "execution_count": 7,
   "metadata": {
    "collapsed": false
   },
   "outputs": [
    {
     "name": "stdout",
     "output_type": "stream",
     "text": [
      "         x1  x2\n",
      "0  8.197180   0\n",
      "1  8.632550   1\n",
      "2  7.194883   2\n",
      "3  0.166764   3\n",
      "4  5.825405   4\n",
      "5  1.046391   0\n",
      "6  3.482188   1\n",
      "7  4.186284   2\n",
      "8  9.177784   3\n",
      "9  4.637344   4\n"
     ]
    }
   ],
   "source": [
    "# generate a random dataset with 2 variables: one numerical and one categorical\n",
    "import pandas as pd\n",
    "data = {'x1':np.random.uniform(0,10,100),\n",
    "        'x2':range(5)*20}\n",
    "df = pd.DataFrame(data)\n",
    "print df.head(10)"
   ]
  },
  {
   "cell_type": "code",
   "execution_count": 8,
   "metadata": {
    "collapsed": false
   },
   "outputs": [
    {
     "name": "stdout",
     "output_type": "stream",
     "text": [
      "\n"
     ]
    },
    {
     "data": {
      "image/png": "[encoded data removed]",
      "text/plain": [
       "<matplotlib.figure.Figure at 0x1127ef650>"
      ]
     },
     "metadata": {},
     "output_type": "display_data"
    }
   ],
   "source": [
    "# loop through each category and plot a histogram of x1\n",
    "# useful for creating a saving graphs for multiple categories\n",
    "import matplotlib.pyplot as plt\n",
    "%matplotlib inline\n",
    "categories = df.x2.unique()\n",
    "for cat in tqdm_notebook(categories):\n",
    "    vals = df.ix[df.x2==cat, 'x1']\n",
    "    plt.hist(vals)\n",
    "    time.sleep(0.1)\n",
    "    # plt.savefig('./cat_{}_graph.png'.format(cat))"
   ]
  },
  {
   "cell_type": "markdown",
   "metadata": {},
   "source": [
    "### Sklearn"
   ]
  },
  {
   "cell_type": "markdown",
   "metadata": {},
   "source": [
    "Many of the common tasks in Sklearn such as model training and model testing are performed on a dataset as a whole, rather than per record. This is similar to the elementwise recommendations above for Numpy and Pandas. However, there are some functions inside Sklearn that create iterators, such as the KFold functionality which we demonstrate below."
   ]
  },
  {
   "cell_type": "code",
   "execution_count": 9,
   "metadata": {
    "collapsed": true
   },
   "outputs": [],
   "source": [
    "from sklearn.datasets import make_moons\n",
    "from sklearn.neighbors import KNeighborsClassifier\n",
    "from sklearn.cross_validation import KFold\n",
    "from sklearn.metrics import f1_score"
   ]
  },
  {
   "cell_type": "code",
   "execution_count": 10,
   "metadata": {
    "collapsed": false
   },
   "outputs": [
    {
     "data": {
      "text/plain": [
       "<matplotlib.collections.PathCollection at 0x1179a3cd0>"
      ]
     },
     "execution_count": 10,
     "metadata": {},
     "output_type": "execute_result"
    },
    {
     "data": {
      "image/png": "[encoded data removed]",
      "text/plain": [
       "<matplotlib.figure.Figure at 0x1178cbf50>"
      ]
     },
     "metadata": {},
     "output_type": "display_data"
    }
   ],
   "source": [
    "# create a dummy dataset\n",
    "X, y = make_moons(1000, noise=0.2, random_state=123)\n",
    "plt.scatter([x[0] for x in X], [x[1] for x in X], c=y)"
   ]
  },
  {
   "cell_type": "code",
   "execution_count": 11,
   "metadata": {
    "collapsed": true
   },
   "outputs": [],
   "source": [
    "# define KFold and KNN objects\n",
    "kf = KFold(len(X), n_folds=10, shuffle=True, random_state=123)\n",
    "clr = KNeighborsClassifier()"
   ]
  },
  {
   "cell_type": "code",
   "execution_count": 12,
   "metadata": {
    "collapsed": false
   },
   "outputs": [
    {
     "name": "stdout",
     "output_type": "stream",
     "text": [
      "0.967741935484\n",
      "0.989247311828\n",
      "0.991452991453\n",
      "0.979591836735\n",
      "0.963636363636\n",
      "0.962962962963\n",
      "0.953488372093\n",
      "0.957446808511\n",
      "0.969696969697\n",
      "0.971962616822\n",
      "\n"
     ]
    }
   ],
   "source": [
    "# for each Fold, split test+train, then train model, finally evaluate model\n",
    "for train_index, test_index in tqdm_notebook(kf):\n",
    "    X_train = X[train_index]\n",
    "    y_train = y[train_index]\n",
    "    X_test = X[test_index]\n",
    "    y_test = y[test_index]\n",
    "\n",
    "    clr.fit(X_train, y_train)\n",
    "    y_pred = clr.predict(X_test)\n",
    "    \n",
    "    print f1_score(y_test, y_pred)\n",
    "    time.sleep(0.1)"
   ]
  }
 ],
 "metadata": {
  "anaconda-cloud": {},
  "kernelspec": {
   "display_name": "Python [conda root]",
   "language": "python",
   "name": "conda-root-py"
  },
  "language_info": {
   "codemirror_mode": {
    "name": "ipython",
    "version": 2
   },
   "file_extension": ".py",
   "mimetype": "text/x-python",
   "name": "python",
   "nbconvert_exporter": "python",
   "pygments_lexer": "ipython2",
   "version": "2.7.12"
  },
  "widgets": {
   "state": {
    "01cf28b1a38440feb8749829c45a6d61": {
     "views": [
      {
       "cell_index": 28
      }
     ]
    },
    "01d76da1169d40cc87ffb9349e12c93c": {
     "views": [
      {
       "cell_index": 28
      }
     ]
    },
    "04784ff11e0c4931bbe51291341969c8": {
     "views": [
      {
       "cell_index": 18
      }
     ]
    },
    "082c161e22044c6b8f4001864ee9f408": {
     "views": [
      {
       "cell_index": 28
      }
     ]
    },
    "08aa86ba45e84e5b9f27a47393a4ee86": {
     "views": [
      {
       "cell_index": 28
      }
     ]
    },
    "0e57af826bc74e158b65762f8890b595": {
     "views": [
      {
       "cell_index": 28
      }
     ]
    },
    "1b6f20c0c60b4e8babaecd0481f6d6e8": {
     "views": [
      {
       "cell_index": 15
      }
     ]
    },
    "2045e853de254d6eb98285d87c7ac483": {
     "views": [
      {
       "cell_index": 28
      }
     ]
    },
    "234ec3478dcf44b0ad162a2acbb5fdaf": {
     "views": [
      {
       "cell_index": 28
      }
     ]
    },
    "25600afe3c1d4ac8856bc65f269e3256": {
     "views": [
      {
       "cell_index": 28
      }
     ]
    },
    "25f110d89b5b4ecc8ab2028eca488052": {
     "views": [
      {
       "cell_index": 18
      }
     ]
    },
    "26b7e6ab734e4551b44ad88a43ea2248": {
     "views": [
      {
       "cell_index": 28
      }
     ]
    },
    "2748ecb36c674f568126c4ab0bf029c7": {
     "views": [
      {
       "cell_index": 15
      }
     ]
    },
    "27def20dc69b44e386768b86d82e344a": {
     "views": [
      {
       "cell_index": 15
      }
     ]
    },
    "2c216cfe532b4825bfd2bd9557ac732a": {
     "views": [
      {
       "cell_index": 28
      }
     ]
    },
    "2c36f9289e84498f8030c474fe779626": {
     "views": [
      {
       "cell_index": 28
      }
     ]
    },
    "2df2d1a3a9c6415ab3940b9f16680708": {
     "views": [
      {
       "cell_index": 15
      }
     ]
    },
    "337a1fe1f37e495bb8de78b43706c100": {
     "views": [
      {
       "cell_index": 28
      }
     ]
    },
    "33c2e4331e34461f951bb170fe4f70c8": {
     "views": [
      {
       "cell_index": 28
      }
     ]
    },
    "34064fecabfc4cd0b6f5897bffdde554": {
     "views": [
      {
       "cell_index": 28
      }
     ]
    },
    "347de85791864fcd9a1c6a4a00aabc7f": {
     "views": [
      {
       "cell_index": 28
      }
     ]
    },
    "353de74f8a1e47b0b1d12289ab27a46f": {
     "views": [
      {
       "cell_index": 28
      }
     ]
    },
    "3c96368881194059917d6f98b320a2f5": {
     "views": [
      {
       "cell_index": 28
      }
     ]
    },
    "3d816628ca0c4f7dafb29ad396e8cafc": {
     "views": [
      {
       "cell_index": 28
      }
     ]
    },
    "3efcef5ebc5c42c788934bdebf97d685": {
     "views": [
      {
       "cell_index": 21
      }
     ]
    },
    "3f3b5c7d78494974b2d5efe6f2b99fa2": {
     "views": [
      {
       "cell_index": 28
      }
     ]
    },
    "40173e5f25024ae2aa924e30395bb52d": {
     "views": [
      {
       "cell_index": 15
      }
     ]
    },
    "4479cc3147744b578598ff1fe8614e6c": {
     "views": [
      {
       "cell_index": 18
      }
     ]
    },
    "48763374fb6a41569614220eae444b75": {
     "views": [
      {
       "cell_index": 28
      }
     ]
    },
    "4ad176f9df974dcb8c8e7710818486b2": {
     "views": [
      {
       "cell_index": 28
      }
     ]
    },
    "4cd7380b4f65439888f6bee7c750c152": {
     "views": [
      {
       "cell_index": 28
      }
     ]
    },
    "4dce5e59c9fc4e81bc2941311d55e318": {
     "views": [
      {
       "cell_index": 15
      }
     ]
    },
    "4ff6030a46594a23b3e623de48ec0b4e": {
     "views": [
      {
       "cell_index": 15
      }
     ]
    },
    "514542cafb9e48b39b5dbd2bd4e4b5b2": {
     "views": [
      {
       "cell_index": 15
      }
     ]
    },
    "517d6a96085a4a4589cef3b536640d1f": {
     "views": [
      {
       "cell_index": 28
      }
     ]
    },
    "52c530b7411046ad9b5c042c0ddd0342": {
     "views": [
      {
       "cell_index": 28
      }
     ]
    },
    "541875b5d557434c87a9fa5cead075c8": {
     "views": [
      {
       "cell_index": 15
      }
     ]
    },
    "55e51593119d4ee2a16c8f44df379940": {
     "views": [
      {
       "cell_index": 28
      }
     ]
    },
    "564fce1ba2264bdfa6d90d606712c8f0": {
     "views": [
      {
       "cell_index": 28
      }
     ]
    },
    "58ef926a3f974962b28a4d68123e7a01": {
     "views": [
      {
       "cell_index": 15
      }
     ]
    },
    "59976938ea7245518f632b0effeffdb5": {
     "views": [
      {
       "cell_index": 28
      }
     ]
    },
    "59c06321155048c49a575acd3a8c3b49": {
     "views": [
      {
       "cell_index": 15
      }
     ]
    },
    "5b300eecc68b4bb58c9bf8d5d0de3ff0": {
     "views": [
      {
       "cell_index": 15
      }
     ]
    },
    "62a5c8f776214d2c9337eff8f0686654": {
     "views": [
      {
       "cell_index": 28
      }
     ]
    },
    "64dfa2890fb4466697957724cc75151e": {
     "views": [
      {
       "cell_index": 28
      }
     ]
    },
    "65192a09b0f64394aba198d236633137": {
     "views": [
      {
       "cell_index": 28
      }
     ]
    },
    "661eeeab8fe844b2ae3190434d8832ca": {
     "views": [
      {
       "cell_index": 15
      }
     ]
    },
    "68233268e9ee4bddad9c0b012c72472a": {
     "views": [
      {
       "cell_index": 15
      }
     ]
    },
    "682a21769d164a1a98e1e4ce3036f68b": {
     "views": [
      {
       "cell_index": 15
      }
     ]
    },
    "6840f6b3af634632a111b403e69f928e": {
     "views": [
      {
       "cell_index": 28
      }
     ]
    },
    "686e8fd8b4924b2286c398bce79070dd": {
     "views": [
      {
       "cell_index": 15
      }
     ]
    },
    "69ab2115094948f0b5cd27f66f2e8119": {
     "views": [
      {
       "cell_index": 28
      }
     ]
    },
    "69e37d70c1e4424980c516dff0f3496d": {
     "views": [
      {
       "cell_index": 28
      }
     ]
    },
    "6bc7cb99f02f4990bd22794ecce1ce51": {
     "views": [
      {
       "cell_index": 28
      }
     ]
    },
    "6daa6446de064d3ca3de707fdcfc02e4": {
     "views": [
      {
       "cell_index": 28
      }
     ]
    },
    "73094f643c5c4d62b7151af9169803fa": {
     "views": [
      {
       "cell_index": 18
      }
     ]
    },
    "736a65a8b5444467b914283208d98633": {
     "views": [
      {
       "cell_index": 18
      }
     ]
    },
    "77a1c4be0a294bc195d1ec86fa8b40e2": {
     "views": [
      {
       "cell_index": 28
      }
     ]
    },
    "7c97c16d28834197967c75164817fa5b": {
     "views": [
      {
       "cell_index": 18
      }
     ]
    },
    "7ed81a3ecf7645d8a208441ac8137031": {
     "views": [
      {
       "cell_index": 28
      }
     ]
    },
    "817b31f5650547ce9285afd0d26d1896": {
     "views": [
      {
       "cell_index": 28
      }
     ]
    },
    "82e5ca009bba4697a301e94e5d414cf6": {
     "views": [
      {
       "cell_index": 15
      }
     ]
    },
    "82f282f6e0474054b008c31d77752ebc": {
     "views": [
      {
       "cell_index": 28
      }
     ]
    },
    "8329606c0fdf47adb3271b3d36844ab0": {
     "views": [
      {
       "cell_index": 15
      }
     ]
    },
    "83b0ea73f4224c8db4829b84b2675a9c": {
     "views": [
      {
       "cell_index": 15
      }
     ]
    },
    "860dacb132ef443787ac9bbdfeefc1e0": {
     "views": [
      {
       "cell_index": 28
      }
     ]
    },
    "891c049be6f548a2bb613e38e3fc9486": {
     "views": [
      {
       "cell_index": 15
      }
     ]
    },
    "8b6cb3c47f844da490ae9b9e08378819": {
     "views": [
      {
       "cell_index": 28
      }
     ]
    },
    "8c733c98a0834b1eb5718ae6c724d11c": {
     "views": [
      {
       "cell_index": 15
      }
     ]
    },
    "8ca65fa897f644d8b5659be8c8b91ac6": {
     "views": [
      {
       "cell_index": 28
      }
     ]
    },
    "9214600cd2e74302b860542455285fb6": {
     "views": [
      {
       "cell_index": 18
      }
     ]
    },
    "9c2d0f992b184e69a3073f1bb35fe4c9": {
     "views": [
      {
       "cell_index": 15
      }
     ]
    },
    "9dbd53392751497bba3e890a3315c9e5": {
     "views": [
      {
       "cell_index": 28
      }
     ]
    },
    "9f986c8e3ba84e31815845d2742e17b2": {
     "views": [
      {
       "cell_index": 15
      }
     ]
    },
    "9ffe4343784949c2a7068a84590bfc7a": {
     "views": [
      {
       "cell_index": 28
      }
     ]
    },
    "a8f912a1a4464c009caa6fae5055c805": {
     "views": [
      {
       "cell_index": 28
      }
     ]
    },
    "a956764a43074f72b43c75f57f37578e": {
     "views": [
      {
       "cell_index": 28
      }
     ]
    },
    "aa49b6126fd4489482707d1ee3424c20": {
     "views": [
      {
       "cell_index": 28
      }
     ]
    },
    "ab8bcf7bd4de4b7ead2af855c21a728b": {
     "views": [
      {
       "cell_index": 27
      }
     ]
    },
    "aba9159c80404e9bbb0e92fcacf95b2c": {
     "views": [
      {
       "cell_index": 18
      }
     ]
    },
    "ac496eae41884d0199cfb39269b5d5a7": {
     "views": [
      {
       "cell_index": 28
      }
     ]
    },
    "afdcd7016645498b97eaee35bb9ea01b": {
     "views": [
      {
       "cell_index": 28
      }
     ]
    },
    "b0d9890f7f7946e2ad05efb9569c1c4a": {
     "views": [
      {
       "cell_index": 28
      }
     ]
    },
    "b31dbb44b9b74ef994988517e70870a1": {
     "views": [
      {
       "cell_index": 28
      }
     ]
    },
    "b6b5ae3a0f1246b8974cf6081f127242": {
     "views": [
      {
       "cell_index": 28
      }
     ]
    },
    "b99c9edf2b4642aab96a4ba8ffcf80f8": {
     "views": [
      {
       "cell_index": 18
      }
     ]
    },
    "bb29fb77b6a94ba4b11d1a79095ab00d": {
     "views": [
      {
       "cell_index": 28
      }
     ]
    },
    "bc847627fd8846b7adbe01f762024199": {
     "views": [
      {
       "cell_index": 28
      }
     ]
    },
    "bcbbab2b856547d48656292d504046b3": {
     "views": [
      {
       "cell_index": 28
      }
     ]
    },
    "bfc51faa7ee14c698f4b2ae51fb36ada": {
     "views": [
      {
       "cell_index": 28
      }
     ]
    },
    "c561cc38e13540ed91053771ee133316": {
     "views": [
      {
       "cell_index": 18
      }
     ]
    },
    "c76daeef305544ea95238b94c08f24c1": {
     "views": [
      {
       "cell_index": 28
      }
     ]
    },
    "c79a77d93642401db167a89d65002818": {
     "views": [
      {
       "cell_index": 28
      }
     ]
    },
    "c7b629d850734e7485d6a5f62d770e25": {
     "views": [
      {
       "cell_index": 18
      }
     ]
    },
    "cd3d6153d5324d7fa186c6a619ee43ff": {
     "views": [
      {
       "cell_index": 28
      }
     ]
    },
    "cd725c452502422b8537f8dd0a3e4518": {
     "views": [
      {
       "cell_index": 28
      }
     ]
    },
    "dd59469160764d2f8430cdcd938412c3": {
     "views": [
      {
       "cell_index": 28
      }
     ]
    },
    "ddde8d8ca78b48fb93ce61f74b4d6262": {
     "views": [
      {
       "cell_index": 15
      }
     ]
    },
    "e34fcc54f7f742c28ffdd5ee1fa26f8c": {
     "views": [
      {
       "cell_index": 15
      }
     ]
    },
    "e58aad3f546d42138bc8251bd33395d7": {
     "views": [
      {
       "cell_index": 18
      }
     ]
    },
    "ef09214f1dae44358d1eb6eca2ee1d91": {
     "views": [
      {
       "cell_index": 28
      }
     ]
    },
    "f2472fc11c9e4260a4138a998d77c377": {
     "views": [
      {
       "cell_index": 15
      }
     ]
    },
    "f2c6c7557b8241c0b1e836a1030344b2": {
     "views": [
      {
       "cell_index": 28
      }
     ]
    },
    "f7e02e0c960b4087b66e3882fbe3f9f9": {
     "views": [
      {
       "cell_index": 18
      }
     ]
    },
    "f916e4d94cf94f199a89ba01f3d27423": {
     "views": [
      {
       "cell_index": 18
      }
     ]
    },
    "f97adca5c9014317978f1eb3fca3f31a": {
     "views": [
      {
       "cell_index": 28
      }
     ]
    },
    "f9ffcd83123045a1b0eae2a0c09cd747": {
     "views": [
      {
       "cell_index": 18
      }
     ]
    },
    "fe610f4246624015adc58d25e70b1d43": {
     "views": [
      {
       "cell_index": 15
      }
     ]
    }
   },
   "version": "1.2.0"
  }
 },
 "nbformat": 4,
 "nbformat_minor": 1
}
